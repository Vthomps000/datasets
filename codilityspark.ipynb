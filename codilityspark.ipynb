{
  "nbformat": 4,
  "nbformat_minor": 0,
  "metadata": {
    "colab": {
      "provenance": []
    },
    "kernelspec": {
      "name": "python3",
      "display_name": "Python 3"
    },
    "language_info": {
      "name": "python"
    }
  },
  "cells": [
    {
      "cell_type": "code",
      "source": [
        "pip install pyspark"
      ],
      "metadata": {
        "colab": {
          "base_uri": "https://localhost:8080/"
        },
        "id": "GwsP35gsUNg6",
        "outputId": "55854747-83c7-4ec3-9112-24be2d699844"
      },
      "execution_count": 5,
      "outputs": [
        {
          "output_type": "stream",
          "name": "stdout",
          "text": [
            "Collecting pyspark\n",
            "  Downloading pyspark-3.4.1.tar.gz (310.8 MB)\n",
            "\u001b[2K     \u001b[90m━━━━━━━━━━━━━━━━━━━━━━━━━━━━━━━━━━━━━━━\u001b[0m \u001b[32m310.8/310.8 MB\u001b[0m \u001b[31m4.6 MB/s\u001b[0m eta \u001b[36m0:00:00\u001b[0m\n",
            "\u001b[?25h  Preparing metadata (setup.py) ... \u001b[?25l\u001b[?25hdone\n",
            "Requirement already satisfied: py4j==0.10.9.7 in /usr/local/lib/python3.10/dist-packages (from pyspark) (0.10.9.7)\n",
            "Building wheels for collected packages: pyspark\n",
            "  Building wheel for pyspark (setup.py) ... \u001b[?25l\u001b[?25hdone\n",
            "  Created wheel for pyspark: filename=pyspark-3.4.1-py2.py3-none-any.whl size=311285398 sha256=fa3c531e41c0287d826e20e37aa9ad87a59efedc77001916f767b69af340a6dd\n",
            "  Stored in directory: /root/.cache/pip/wheels/0d/77/a3/ff2f74cc9ab41f8f594dabf0579c2a7c6de920d584206e0834\n",
            "Successfully built pyspark\n",
            "Installing collected packages: pyspark\n",
            "Successfully installed pyspark-3.4.1\n"
          ]
        }
      ]
    },
    {
      "cell_type": "code",
      "source": [],
      "metadata": {
        "id": "O3ksMv2JUPXL"
      },
      "execution_count": null,
      "outputs": []
    },
    {
      "cell_type": "code",
      "source": [],
      "metadata": {
        "id": "AmJsNC8FUPZ9"
      },
      "execution_count": null,
      "outputs": []
    },
    {
      "cell_type": "code",
      "source": [],
      "metadata": {
        "id": "w0hdFINMUPcX"
      },
      "execution_count": null,
      "outputs": []
    },
    {
      "cell_type": "code",
      "source": [],
      "metadata": {
        "id": "F2FyM3j2UPe5"
      },
      "execution_count": null,
      "outputs": []
    },
    {
      "cell_type": "code",
      "source": [],
      "metadata": {
        "id": "7tLAy1M7UNkx"
      },
      "execution_count": null,
      "outputs": []
    },
    {
      "cell_type": "code",
      "execution_count": 6,
      "metadata": {
        "id": "Tg9oc3LWUAxe"
      },
      "outputs": [],
      "source": [
        "\n",
        "from pyspark.sql import SparkSession\n",
        "from pyspark.sql.types import StringType,IntegerType,StructType,StructField,FloatType\n",
        "from pyspark.sql.functions import when, col, udf"
      ]
    },
    {
      "cell_type": "code",
      "source": [
        "spark = SparkSession.builder.appName(\"exp\").getOrCreate()\n",
        "sc = spark.sparkContext"
      ],
      "metadata": {
        "id": "1cNgWLE7Ug6a"
      },
      "execution_count": 7,
      "outputs": []
    },
    {
      "cell_type": "code",
      "source": [
        "@udf(returnType=StringType())\n",
        "def get_english_name(val):\n",
        "    return val[0:val.index(\" (\")]\n",
        "\n",
        "@udf(returnType=IntegerType())\n",
        "def get_start_year(val):\n",
        "    return int(val[1:5])\n",
        "\n",
        "@udf(returnType=StringType())\n",
        "def get_trend(x):\n",
        "    if x < -3.00:\n",
        "        return \"strong decline\"\n",
        "    elif -3.00 < x < -0.50:\n",
        "        return \"weak decline\"\n",
        "    elif -0.50 <x<0.50:\n",
        "        return \"no change\"\n",
        "    else:\n",
        "        return \"strong increase\""
      ],
      "metadata": {
        "id": "aayvG9X8Ug-C"
      },
      "execution_count": 8,
      "outputs": []
    },
    {
      "cell_type": "code",
      "source": [
        "info = [(\"Greenfinch (Chloris chloris)\",\"Farmland birds\",\"(1970-2014)\",-1.13),(\"Siskin (Carduelis spinus)\",\"Woodland birds\",\"(1995-2014)\",2.26),\n",
        "        (\"European shag (Phalacrocorax artistotelis)\",\"Seabirds\",\"(1986-2014)\",-2.31),(\"Mute Swan (Cygnus olor)\",\"Water and wetland birds\",\"(1975-2014)\",1.65)\n",
        "        ,(\"Collared Dove (Streptopelia decaocto)\",\"other\",\"(1970-2014)\",5.2)]\n",
        "schema1 = StructType(\n",
        "    [StructField(\"Species\", StringType()),\n",
        "     StructField(\"Category\", StringType()),\n",
        "     StructField(\"Period\", StringType()),\n",
        "     StructField(\"Annual_percentage_change\", FloatType())\n",
        "     ])"
      ],
      "metadata": {
        "id": "Ws0EuIREUhAh"
      },
      "execution_count": 9,
      "outputs": []
    },
    {
      "cell_type": "code",
      "source": [
        "rdd = sc.parallelize(info)\n",
        "data = spark.createDataFrame(rdd, schema=schema1)"
      ],
      "metadata": {
        "id": "PyPial7uUhC7"
      },
      "execution_count": 10,
      "outputs": []
    },
    {
      "cell_type": "code",
      "source": [
        "data2 = data.withColumn(\"English_Name\", get_english_name(col(\"Species\")))\\\n",
        "    .withColumn(\"start_yearn\", get_start_year(col(\"Period\")))\\\n",
        "        .withColumn(\"Trend\", get_trend(col(\"Annual_percentage_change\")))\n"
      ],
      "metadata": {
        "id": "AAp59fX8U_sE"
      },
      "execution_count": 11,
      "outputs": []
    },
    {
      "cell_type": "code",
      "source": [
        "data2.show()\n"
      ],
      "metadata": {
        "colab": {
          "base_uri": "https://localhost:8080/"
        },
        "id": "Ec_aUjYeU_uF",
        "outputId": "cc43645d-fa52-4567-a835-b30d12b69a5b"
      },
      "execution_count": 12,
      "outputs": [
        {
          "output_type": "stream",
          "name": "stdout",
          "text": [
            "+--------------------+--------------------+-----------+------------------------+-------------+-----------+---------------+\n",
            "|             Species|            Category|     Period|Annual_percentage_change| English_Name|start_yearn|          Trend|\n",
            "+--------------------+--------------------+-----------+------------------------+-------------+-----------+---------------+\n",
            "|Greenfinch (Chlor...|      Farmland birds|(1970-2014)|                   -1.13|   Greenfinch|       1970|   weak decline|\n",
            "|Siskin (Carduelis...|      Woodland birds|(1995-2014)|                    2.26|       Siskin|       1995|strong increase|\n",
            "|European shag (Ph...|            Seabirds|(1986-2014)|                   -2.31|European shag|       1986|   weak decline|\n",
            "|Mute Swan (Cygnus...|Water and wetland...|(1975-2014)|                    1.65|    Mute Swan|       1975|strong increase|\n",
            "|Collared Dove (St...|               other|(1970-2014)|                     5.2|Collared Dove|       1970|strong increase|\n",
            "+--------------------+--------------------+-----------+------------------------+-------------+-----------+---------------+\n",
            "\n"
          ]
        }
      ]
    },
    {
      "cell_type": "code",
      "source": [
        "spark.stop()"
      ],
      "metadata": {
        "id": "XzMiuPcTU_wk"
      },
      "execution_count": null,
      "outputs": []
    },
    {
      "cell_type": "code",
      "source": [],
      "metadata": {
        "id": "hh12GWHXU_y7"
      },
      "execution_count": null,
      "outputs": []
    },
    {
      "cell_type": "code",
      "source": [],
      "metadata": {
        "id": "V5uFg3hbU_37"
      },
      "execution_count": null,
      "outputs": []
    },
    {
      "cell_type": "code",
      "source": [],
      "metadata": {
        "id": "rBlcnAsRUhJS"
      },
      "execution_count": null,
      "outputs": []
    },
    {
      "cell_type": "code",
      "source": [
        "import findspark\n",
        "findspark.init()\n",
        "from pyspark.sql import SparkSession\n",
        "from pyspark.sql.types import StringType,IntegerType,StructType,StructField,FloatType\n",
        "from pyspark.sql.functions import when, col, udf\n",
        "spark = SparkSession.builder.appName(\"exp\").getOrCreate()\n",
        "sc = spark.sparkContext\n",
        "@udf(returnType=StringType())\n",
        "def get_english_name(val):\n",
        "    return val[0:val.index(\" (\")]\n",
        "\n",
        "@udf(returnType=IntegerType())\n",
        "def get_start_year(val):\n",
        "    return int(val[1:5])\n",
        "\n",
        "@udf(returnType=StringType())\n",
        "def get_trend(x):\n",
        "    if x < -3.00:\n",
        "        return \"strong decline\"\n",
        "    elif -3.00 < x < -0.50:\n",
        "        return \"weak decline\"\n",
        "    elif -0.50 <x<0.50:\n",
        "        return \"no change\"\n",
        "    else:\n",
        "        return \"strong increase\"\n",
        "\n",
        "info = [(\"Greenfinch (Chloris chloris)\",\"Farmland birds\",\"(1970-2014)\",-1.13),(\"Siskin (Carduelis spinus)\",\"Woodland birds\",\"(1995-2014)\",2.26),\n",
        "        (\"European shag (Phalacrocorax artistotelis)\",\"Seabirds\",\"(1986-2014)\",-2.31),(\"Mute Swan (Cygnus olor)\",\"Water and wetland birds\",\"(1975-2014)\",1.65)\n",
        "        ,(\"Collared Dove (Streptopelia decaocto)\",\"other\",\"(1970-2014)\",5.2)]\n",
        "schema1 = StructType(\n",
        "    [StructField(\"Species\", StringType()),\n",
        "     StructField(\"Category\", StringType()),\n",
        "     StructField(\"Period\", StringType()),\n",
        "     StructField(\"Annual_percentage_change\", FloatType())\n",
        "     ])\n",
        "\n",
        "rdd = sc.parallelize(info)\n",
        "data = spark.createDataFrame(rdd, schema=schema1)\n",
        "\n",
        "data2 = data.withColumn(\"English_Name\", get_english_name(col(\"Species\")))\\\n",
        "    .withColumn(\"start_yearn\", get_start_year(col(\"Period\")))\\\n",
        "        .withColumn(\"Trend\", get_trend(col(\"Annual_percentage_change\")))\n",
        "data2.show()\n",
        "spark.stop()"
      ],
      "metadata": {
        "id": "QlG9SySsUBfJ"
      },
      "execution_count": null,
      "outputs": []
    },
    {
      "cell_type": "code",
      "source": [],
      "metadata": {
        "id": "F--fUcqXUBhw"
      },
      "execution_count": null,
      "outputs": []
    },
    {
      "cell_type": "code",
      "source": [],
      "metadata": {
        "id": "7QmdTggCUBkv"
      },
      "execution_count": null,
      "outputs": []
    },
    {
      "cell_type": "code",
      "source": [],
      "metadata": {
        "id": "Qe4CJ9vPUBm8"
      },
      "execution_count": null,
      "outputs": []
    },
    {
      "cell_type": "code",
      "source": [],
      "metadata": {
        "id": "4nSYLnlMUBo_"
      },
      "execution_count": null,
      "outputs": []
    },
    {
      "cell_type": "code",
      "source": [],
      "metadata": {
        "id": "GTMMLzY-UBtn"
      },
      "execution_count": null,
      "outputs": []
    },
    {
      "cell_type": "code",
      "source": [],
      "metadata": {
        "id": "AmjrgjpaUBwY"
      },
      "execution_count": null,
      "outputs": []
    }
  ]
}